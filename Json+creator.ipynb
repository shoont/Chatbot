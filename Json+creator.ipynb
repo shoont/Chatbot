{
 "cells": [
  {
   "cell_type": "code",
   "execution_count": 9,
   "metadata": {
    "collapsed": true
   },
   "outputs": [],
   "source": [
    "book = {}\n",
    "book['intents'] = [\n",
    "        {\"tag\": \"greeting\",\n",
    "         \"patterns\": [\"Hi\", \"How are you\", \"Is anyone there?\", \"Hello\", \"Good day\"],\n",
    "         \"responses\": [\"Hello, thanks for visiting\", \"Good to see you again\", \"Hi there, how can I help?\"],\n",
    "         \"context_set\": \"\"\n",
    "        },\n",
    "        {\"tag\": \"goodbye\",\n",
    "         \"patterns\": [\"Bye\", \"See you later\", \"Goodbye\"],\n",
    "         \"responses\": [\"See you later, thanks for visiting\", \"Have a nice day\", \"Bye! Come back again soon.\"]\n",
    "        },\n",
    "        {\"tag\": \"thanks\",\n",
    "         \"patterns\": [\"Thanks\", \"Thank you\", \"That's helpful\"],\n",
    "         \"responses\": [\"Happy to help!\", \"Any time!\", \"My pleasure\"]\n",
    "        },\n",
    "        {\"tag\": \"hours\",\n",
    "         \"patterns\": [\"What hours are you open?\", \"What are your hours?\", \"When are you open?\" ],\n",
    "         \"responses\": [\"We're open every day 9am-9pm\", \"Our hours are 9am-9pm every day\"]\n",
    "        },\n",
    "        {\"tag\": \"mopeds\",\n",
    "         \"patterns\": [\"Which mopeds do you have?\", \"What kinds of mopeds are there?\", \"What do you rent?\" ],\n",
    "         \"responses\": [\"We rent Yamaha, Piaggio and Vespa mopeds\", \"We have Piaggio, Vespa and Yamaha mopeds\"]\n",
    "        },\n",
    "        {\"tag\": \"payments\",\n",
    "         \"patterns\": [\"Do you take credit cards?\", \"Do you accept Mastercard?\", \"Are you cash only?\" ],\n",
    "         \"responses\": [\"We accept VISA, Mastercard and AMEX\", \"We accept most major credit cards\"]\n",
    "        },\n",
    "        {\"tag\": \"opentoday\",\n",
    "         \"patterns\": [\"Are you open today?\", \"When do you open today?\", \"What are your hours today?\"],\n",
    "         \"responses\": [\"We're open every day from 9am-9pm\", \"Our hours are 9am-9pm every day\"]\n",
    "        },\n",
    "        {\"tag\": \"rental\",\n",
    "         \"patterns\": [\"Can we rent a moped?\", \"I'd like to rent a moped\", \"How does this work?\" ],\n",
    "         \"responses\": [\"Are you looking to rent today or later this week?\"],\n",
    "         \"context_set\": \"rentalday\"\n",
    "        },\n",
    "        {\"tag\": \"today\",\n",
    "         \"patterns\": [\"today\"],\n",
    "         \"responses\": [\"For rentals today please call 1-800-MYMOPED\", \"Same-day rentals please call 1-800-MYMOPED\"],\n",
    "         \"context_filter\": \"rentalday\"\n",
    "        }\n",
    "   ]\n",
    "\n"
   ]
  },
  {
   "cell_type": "code",
   "execution_count": 10,
   "metadata": {
    "collapsed": true
   },
   "outputs": [],
   "source": [
    "import json\n",
    "s = json.dumps(book)\n",
    "with open(\"c:/Users/grant/Desktop/AiLawMiniCourseHW/book.txt\", \"w\") as f:\n",
    "    f.write(s)\n"
   ]
  },
  {
   "cell_type": "code",
   "execution_count": 11,
   "metadata": {},
   "outputs": [
    {
     "name": "stdout",
     "output_type": "stream",
     "text": [
      "{'intents': [{'tag': 'greeting', 'patterns': ['Hi', 'How are you', 'Is anyone there?', 'Hello', 'Good day'], 'responses': ['Hello, thanks for visiting', 'Good to see you again', 'Hi there, how can I help?'], 'context_set': ''}, {'tag': 'goodbye', 'patterns': ['Bye', 'See you later', 'Goodbye'], 'responses': ['See you later, thanks for visiting', 'Have a nice day', 'Bye! Come back again soon.']}, {'tag': 'thanks', 'patterns': ['Thanks', 'Thank you', \"That's helpful\"], 'responses': ['Happy to help!', 'Any time!', 'My pleasure']}, {'tag': 'hours', 'patterns': ['What hours are you open?', 'What are your hours?', 'When are you open?'], 'responses': [\"We're open every day 9am-9pm\", 'Our hours are 9am-9pm every day']}, {'tag': 'mopeds', 'patterns': ['Which mopeds do you have?', 'What kinds of mopeds are there?', 'What do you rent?'], 'responses': ['We rent Yamaha, Piaggio and Vespa mopeds', 'We have Piaggio, Vespa and Yamaha mopeds']}, {'tag': 'payments', 'patterns': ['Do you take credit cards?', 'Do you accept Mastercard?', 'Are you cash only?'], 'responses': ['We accept VISA, Mastercard and AMEX', 'We accept most major credit cards']}, {'tag': 'opentoday', 'patterns': ['Are you open today?', 'When do you open today?', 'What are your hours today?'], 'responses': [\"We're open every day from 9am-9pm\", 'Our hours are 9am-9pm every day']}, {'tag': 'rental', 'patterns': ['Can we rent a moped?', \"I'd like to rent a moped\", 'How does this work?'], 'responses': ['Are you looking to rent today or later this week?'], 'context_set': 'rentalday'}, {'tag': 'today', 'patterns': ['today'], 'responses': ['For rentals today please call 1-800-MYMOPED', 'Same-day rentals please call 1-800-MYMOPED'], 'context_filter': 'rentalday'}]}\n"
     ]
    }
   ],
   "source": [
    "print(book)"
   ]
  },
  {
   "cell_type": "code",
   "execution_count": 12,
   "metadata": {},
   "outputs": [
    {
     "name": "stdout",
     "output_type": "stream",
     "text": [
      "{\"intents\": [{\"tag\": \"greeting\", \"patterns\": [\"Hi\", \"How are you\", \"Is anyone there?\", \"Hello\", \"Good day\"], \"responses\": [\"Hello, thanks for visiting\", \"Good to see you again\", \"Hi there, how can I help?\"], \"context_set\": \"\"}, {\"tag\": \"goodbye\", \"patterns\": [\"Bye\", \"See you later\", \"Goodbye\"], \"responses\": [\"See you later, thanks for visiting\", \"Have a nice day\", \"Bye! Come back again soon.\"]}, {\"tag\": \"thanks\", \"patterns\": [\"Thanks\", \"Thank you\", \"That's helpful\"], \"responses\": [\"Happy to help!\", \"Any time!\", \"My pleasure\"]}, {\"tag\": \"hours\", \"patterns\": [\"What hours are you open?\", \"What are your hours?\", \"When are you open?\"], \"responses\": [\"We're open every day 9am-9pm\", \"Our hours are 9am-9pm every day\"]}, {\"tag\": \"mopeds\", \"patterns\": [\"Which mopeds do you have?\", \"What kinds of mopeds are there?\", \"What do you rent?\"], \"responses\": [\"We rent Yamaha, Piaggio and Vespa mopeds\", \"We have Piaggio, Vespa and Yamaha mopeds\"]}, {\"tag\": \"payments\", \"patterns\": [\"Do you take credit cards?\", \"Do you accept Mastercard?\", \"Are you cash only?\"], \"responses\": [\"We accept VISA, Mastercard and AMEX\", \"We accept most major credit cards\"]}, {\"tag\": \"opentoday\", \"patterns\": [\"Are you open today?\", \"When do you open today?\", \"What are your hours today?\"], \"responses\": [\"We're open every day from 9am-9pm\", \"Our hours are 9am-9pm every day\"]}, {\"tag\": \"rental\", \"patterns\": [\"Can we rent a moped?\", \"I'd like to rent a moped\", \"How does this work?\"], \"responses\": [\"Are you looking to rent today or later this week?\"], \"context_set\": \"rentalday\"}, {\"tag\": \"today\", \"patterns\": [\"today\"], \"responses\": [\"For rentals today please call 1-800-MYMOPED\", \"Same-day rentals please call 1-800-MYMOPED\"], \"context_filter\": \"rentalday\"}]}\n"
     ]
    }
   ],
   "source": [
    "import json \n",
    "\n",
    "f = open(\"c:/Users/grant/Desktop/AiLawMiniCourseHW/book.txt\", \"r\")\n",
    "s = f.read()\n",
    "print(s)"
   ]
  },
  {
   "cell_type": "code",
   "execution_count": null,
   "metadata": {
    "collapsed": true
   },
   "outputs": [],
   "source": []
  }
 ],
 "metadata": {
  "kernelspec": {
   "display_name": "Python 3",
   "language": "python",
   "name": "python3"
  },
  "language_info": {
   "codemirror_mode": {
    "name": "ipython",
    "version": 3
   },
   "file_extension": ".py",
   "mimetype": "text/x-python",
   "name": "python",
   "nbconvert_exporter": "python",
   "pygments_lexer": "ipython3",
   "version": "3.6.3"
  }
 },
 "nbformat": 4,
 "nbformat_minor": 2
}
