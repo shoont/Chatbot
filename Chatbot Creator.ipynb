{
 "cells": [
  {
   "cell_type": "code",
   "execution_count": 1,
   "metadata": {},
   "outputs": [
    {
     "name": "stdout",
     "output_type": "stream",
     "text": [
      "Requirement already satisfied: tensorflow in c:\\users\\grant\\anaconda3\\lib\\site-packages (1.7.0)\n",
      "Requirement already satisfied: gast>=0.2.0 in c:\\users\\grant\\anaconda3\\lib\\site-packages (from tensorflow) (0.2.0)\n",
      "Requirement already satisfied: numpy>=1.13.3 in c:\\users\\grant\\anaconda3\\lib\\site-packages (from tensorflow) (1.14.0)\n",
      "Requirement already satisfied: grpcio>=1.8.6 in c:\\users\\grant\\anaconda3\\lib\\site-packages (from tensorflow) (1.11.0)\n",
      "Requirement already satisfied: wheel>=0.26 in c:\\users\\grant\\anaconda3\\lib\\site-packages (from tensorflow) (0.30.0)\n",
      "Requirement already satisfied: absl-py>=0.1.6 in c:\\users\\grant\\anaconda3\\lib\\site-packages (from tensorflow) (0.2.0)\n",
      "Requirement already satisfied: tensorboard<1.8.0,>=1.7.0 in c:\\users\\grant\\anaconda3\\lib\\site-packages (from tensorflow) (1.7.0)\n",
      "Requirement already satisfied: astor>=0.6.0 in c:\\users\\grant\\anaconda3\\lib\\site-packages (from tensorflow) (0.6.2)\n",
      "Requirement already satisfied: protobuf>=3.4.0 in c:\\users\\grant\\anaconda3\\lib\\site-packages (from tensorflow) (3.5.2.post1)\n",
      "Requirement already satisfied: termcolor>=1.1.0 in c:\\users\\grant\\anaconda3\\lib\\site-packages (from tensorflow) (1.1.0)\n",
      "Requirement already satisfied: six>=1.10.0 in c:\\users\\grant\\anaconda3\\lib\\site-packages (from tensorflow) (1.11.0)\n",
      "Requirement already satisfied: html5lib==0.9999999 in c:\\users\\grant\\anaconda3\\lib\\site-packages (from tensorboard<1.8.0,>=1.7.0->tensorflow) (0.9999999)\n",
      "Requirement already satisfied: werkzeug>=0.11.10 in c:\\users\\grant\\anaconda3\\lib\\site-packages (from tensorboard<1.8.0,>=1.7.0->tensorflow) (0.14.1)\n",
      "Requirement already satisfied: bleach==1.5.0 in c:\\users\\grant\\anaconda3\\lib\\site-packages (from tensorboard<1.8.0,>=1.7.0->tensorflow) (1.5.0)\n",
      "Requirement already satisfied: markdown>=2.6.8 in c:\\users\\grant\\anaconda3\\lib\\site-packages (from tensorboard<1.8.0,>=1.7.0->tensorflow) (2.6.11)\n",
      "Requirement already satisfied: setuptools in c:\\users\\grant\\anaconda3\\lib\\site-packages (from protobuf>=3.4.0->tensorflow) (38.4.0)\n"
     ]
    },
    {
     "name": "stderr",
     "output_type": "stream",
     "text": [
      "notebook 5.4.0 requires ipykernel, which is not installed.\n",
      "jupyter 1.0.0 requires ipykernel, which is not installed.\n",
      "jupyter-console 5.2.0 requires ipykernel, which is not installed.\n",
      "ipywidgets 7.1.1 requires ipykernel>=4.5.1, which is not installed.\n"
     ]
    }
   ],
   "source": [
    "!pip install tensorflow"
   ]
  },
  {
   "cell_type": "code",
   "execution_count": 2,
   "metadata": {},
   "outputs": [
    {
     "name": "stdout",
     "output_type": "stream",
     "text": [
      "Collecting git+https://github.com/tflearn/tflearn.git\n",
      "  Cloning https://github.com/tflearn/tflearn.git to c:\\users\\grant\\appdata\\local\\temp\\pip-req-build-m5w0p7ij\n",
      "Requirement already satisfied (use --upgrade to upgrade): tflearn==0.3.2 from git+https://github.com/tflearn/tflearn.git in c:\\users\\grant\\anaconda3\\lib\\site-packages\n",
      "Requirement already satisfied: numpy in c:\\users\\grant\\anaconda3\\lib\\site-packages (from tflearn==0.3.2) (1.14.0)\n",
      "Requirement already satisfied: six in c:\\users\\grant\\anaconda3\\lib\\site-packages (from tflearn==0.3.2) (1.11.0)\n",
      "Requirement already satisfied: Pillow in c:\\users\\grant\\anaconda3\\lib\\site-packages (from tflearn==0.3.2) (5.0.0)\n",
      "Building wheels for collected packages: tflearn\n",
      "  Running setup.py bdist_wheel for tflearn: started\n",
      "  Running setup.py bdist_wheel for tflearn: finished with status 'done'\n",
      "  Stored in directory: C:\\Users\\grant\\AppData\\Local\\Temp\\pip-ephem-wheel-cache-jvvh955b\\wheels\\5a\\18\\2a\\c62b9937b37223da935fb6b2965f02fbc45691e460a08b91b4\n",
      "Successfully built tflearn\n"
     ]
    },
    {
     "name": "stderr",
     "output_type": "stream",
     "text": [
      "notebook 5.4.0 requires ipykernel, which is not installed.\n",
      "jupyter 1.0.0 requires ipykernel, which is not installed.\n",
      "jupyter-console 5.2.0 requires ipykernel, which is not installed.\n",
      "ipywidgets 7.1.1 requires ipykernel>=4.5.1, which is not installed.\n"
     ]
    }
   ],
   "source": [
    "!pip install git+https://github.com/tflearn/tflearn.git"
   ]
  },
  {
   "cell_type": "code",
   "execution_count": 5,
   "metadata": {},
   "outputs": [],
   "source": [
    "# things we need for NLP\n",
    "import nltk\n",
    "from nltk.stem.lancaster import LancasterStemmer\n",
    "stemmer = LancasterStemmer()\n",
    "\n",
    "# things we need for Tensorflow\n",
    "import numpy as np\n",
    "import tflearn\n",
    "import tensorflow as tf\n",
    "import random"
   ]
  },
  {
   "cell_type": "code",
   "execution_count": 6,
   "metadata": {},
   "outputs": [
    {
     "name": "stdout",
     "output_type": "stream",
     "text": [
      "{'intents': [{'tag': 'greating', 'patterns': ['Hello', 'How are you doing?', 'Good Morning', 'Good Afternoon'], 'responses': ['Hello!', 'Good to see you!'], 'context_set': ''}, {'tag': 'types', 'patterns': ['What types of damages are available for this case?', 'What types of damages are available to the plaintiff?', 'What types of damages are available in this case?'], 'responses': ['Typically damages are calculate in general and special in California', 'California provides special and general damages to plaintiffs']}, {'tag': 'general', 'patterns': ['Can you explain general damages?', 'Explain general damages to the jury?', 'What is the meaning of general damages?'], 'responses': ['General damages are non-economic damages suffered by the plaintiff', 'General damages are defined as non-economic damages']}, {'tag': 'special', 'patterns': ['Can you explain special damages?', 'Explain special damages to the jury?', 'What is the meaning of special damages?'], 'responses': ['Special damages are economic damages suffered by the plaintiff', 'Special damages are defined as economic damages']}, {'tag': 'noneconomic', 'patterns': ['What are noneconomic damages?', 'What do noneconomic damages include?', 'What is the meaning of noneconomic damages?'], 'responses': ['Noneconomic damages are intangible losses and can incldue pain and suffering, mental anguish and loss of consortium', 'Some exaples of noneconomic damages are include pain and suffering, mental anguish and loss of consortium, but include all intangible losses']}, {'tag': 'economic', 'patterns': ['Can are economic damages?', 'What do economic damages include?', 'What is the meaning of economic damages?'], 'responses': ['Economic damages are tangible losses and can include costs of nursing care, physical rehabilitation and vocational rehabilitation?', 'Some examples of economic damages are costs of nursing care, physical rehabilitation and vocational rehabilitation, but can include all tangible losses']}, {'tag': 'single', 'patterns': ['What is the cost of a single wide trailer?', 'What is the price of a single wide trailer?', 'How much do you think a single wide trailer costs?'], 'responses': ['A single wide trailor costs around forty thousand dollars new, and ten to twenty thousand dollars used.']}, {'tag': 'double', 'patterns': ['What is the cost of a double wide trailer?', 'What is the price of a double wide trailer?', 'How much do you think a double wide trailer costs?'], 'responses': ['A double wide trailor costs around seventy five thousand dollars new, and twenty to fifty thousand dollars used.']}, {'tag': 'construction', 'patterns': ['What do you think the cost of rebuilding the trailer would cost?', 'What are the construction costs required to rebuild this trailer?'], 'responses': ['Construction costs for a modular home range from seventeen thousand dollars at the low end up to fifty thousand dollars.']}, {'tag': 'pain', 'patterns': ['How would you calculate pain and suffering?', 'What is the calculation for pain and suffering?'], 'responses': ['Usually pain and suffering is calculated multiplying the medical bills by a multiplier between one and five.']}, {'tag': 'medical', 'patterns': ['What were the total medical costs?'], 'responses': ['The plaintiff suffered one thousand dollars in medical bills.']}, {'tag': 'multiplier', 'patterns': ['What should be the multiplier in this case?', 'What do you believe the multiplier should be?'], 'responses': ['The multiplier should be between one and two considering the minor injuries']}, {'tag': 'calculated', 'patterns': ['What are the calculated pain and suffering damages that should be awarded to the plaintiff?', 'What do you calculate the pain and suffering to be awared to the plaintiff?'], 'responses': ['Two thousand dollars.'], 'Context_Set': 'damages'}, {'tag': 'total', 'patterns': ['What are the total damages in this case?', 'What are your calculations for total damages in this case?'], 'responses': ['The total damages in this case should be around twenty and fifty thousand dollars.'], 'context_filter': 'damages'}]}\n"
     ]
    }
   ],
   "source": [
    "# restore all of our data structures\n",
    "import pickle\n",
    "data = pickle.load( open( \"training_data\", \"rb\" ) )\n",
    "words = data['words']\n",
    "classes = data['classes']\n",
    "train_x = data['train_x']\n",
    "train_y = data['train_y']\n",
    "\n",
    "# import our chat-bot intents file\n",
    "import json\n",
    "f = open('c:/Users/grant/desktop/AiLawMiniCourseHW/book.txt', 'r')\n",
    "s = f.read()\n",
    "\n",
    "intents = json.loads(s)\n",
    "print(intents)"
   ]
  },
  {
   "cell_type": "code",
   "execution_count": 7,
   "metadata": {},
   "outputs": [],
   "source": [
    "# Build neural network\n",
    "net = tflearn.input_data(shape=[None, len(train_x[0])])\n",
    "net = tflearn.fully_connected(net, 8)\n",
    "net = tflearn.fully_connected(net, 8)\n",
    "net = tflearn.fully_connected(net, len(train_y[0]), activation='softmax')\n",
    "net = tflearn.regression(net)\n",
    "\n",
    "# Define model and setup tensorboard\n",
    "model = tflearn.DNN(net, tensorboard_dir='tflearn_logs')"
   ]
  },
  {
   "cell_type": "code",
   "execution_count": 8,
   "metadata": {},
   "outputs": [],
   "source": [
    "def clean_up_sentence(sentence):\n",
    "    # tokenize the pattern\n",
    "    sentence_words = nltk.word_tokenize(sentence)\n",
    "    # stem each word\n",
    "    sentence_words = [stemmer.stem(word.lower()) for word in sentence_words]\n",
    "    return sentence_words\n",
    "\n",
    "# return bag of words array: 0 or 1 for each word in the bag that exists in the sentence\n",
    "def bow(sentence, words, show_details=False):\n",
    "    # tokenize the pattern\n",
    "    sentence_words = clean_up_sentence(sentence)\n",
    "    # bag of words\n",
    "    bag = [0]*len(words)  \n",
    "    for s in sentence_words:\n",
    "        for i,w in enumerate(words):\n",
    "            if w == s: \n",
    "                bag[i] = 1\n",
    "                if show_details:\n",
    "                    print (\"found in bag: %s\" % w)\n",
    "\n",
    "    return(np.array(bag))"
   ]
  },
  {
   "cell_type": "code",
   "execution_count": 9,
   "metadata": {},
   "outputs": [
    {
     "name": "stdout",
     "output_type": "stream",
     "text": [
      "[0 0 0 1 0 0 0 0 0 0 0 0 0 0 1 0 0 0 0 0 0 0 0 0 0 0 0 0 0 0 0 0 0 0 0 0 0\n",
      " 0 0 0 0 0 0 0 0 0 1 0 0 0 0 0 0 0 1 0 0 0 0]\n",
      "['calculated', 'construction', 'double', 'economic', 'general', 'greating', 'medical', 'multiplier', 'noneconomic', 'pain', 'single', 'special', 'total', 'types']\n"
     ]
    }
   ],
   "source": [
    "p = bow(\"what are the damages?\", words)\n",
    "print (p)\n",
    "print (classes)"
   ]
  },
  {
   "cell_type": "code",
   "execution_count": 10,
   "metadata": {},
   "outputs": [
    {
     "name": "stdout",
     "output_type": "stream",
     "text": [
      "INFO:tensorflow:Restoring parameters from C:\\Users\\grant\\model.tflearn\n"
     ]
    }
   ],
   "source": [
    "# load our saved model\n",
    "model.load('.\\model.tflearn')"
   ]
  },
  {
   "cell_type": "code",
   "execution_count": 11,
   "metadata": {},
   "outputs": [],
   "source": [
    "# create a data structure to hold user context\n",
    "context = {}\n",
    "\n",
    "ERROR_THRESHOLD = 0.25\n",
    "def classify(sentence):\n",
    "    # generate probabilities from the model\n",
    "    results = model.predict([bow(sentence, words)])[0]\n",
    "    # filter out predictions below a threshold\n",
    "    results = [[i,r] for i,r in enumerate(results) if r>ERROR_THRESHOLD]\n",
    "    # sort by strength of probability\n",
    "    results.sort(key=lambda x: x[1], reverse=True)\n",
    "    return_list = []\n",
    "    for r in results:\n",
    "        return_list.append((classes[r[0]], r[1]))\n",
    "    # return tuple of intent and probability\n",
    "    return return_list\n",
    "\n",
    "def response(sentence, userID='123', show_details=False):\n",
    "    results = classify(sentence)\n",
    "    # if we have a classification then find the matching intent tag\n",
    "    if results:\n",
    "        # loop as long as there are matches to process\n",
    "        while results:\n",
    "            for i in intents['intents']:\n",
    "                # find a tag matching the first result\n",
    "                if i['tag'] == results[0][0]:\n",
    "                    # set context for this intent if necessary\n",
    "                    if 'context_set' in i:\n",
    "                        if show_details: print ('context:', i['context_set'])\n",
    "                        context[userID] = i['context_set']\n",
    "\n",
    "                    # check if this intent is contextual and applies to this user's conversation\n",
    "                    if not 'context_filter' in i or \\\n",
    "                        (userID in context and 'context_filter' in i and i['context_filter'] == context[userID]):\n",
    "                        if show_details: print ('tag:', i['tag'])\n",
    "                        # a random response from the intent\n",
    "                        return print(random.choice(i['responses']))\n",
    "            results.pop(0)"
   ]
  },
  {
   "cell_type": "code",
   "execution_count": 37,
   "metadata": {},
   "outputs": [
    {
     "ename": "SyntaxError",
     "evalue": "invalid syntax (<ipython-input-37-92a3f9793b25>, line 21)",
     "output_type": "error",
     "traceback": [
      "\u001b[1;36m  File \u001b[1;32m\"<ipython-input-37-92a3f9793b25>\"\u001b[1;36m, line \u001b[1;32m21\u001b[0m\n\u001b[1;33m    @ask.intent(\"QuestionIntent\", convert{\"query\":str})\u001b[0m\n\u001b[1;37m                                         ^\u001b[0m\n\u001b[1;31mSyntaxError\u001b[0m\u001b[1;31m:\u001b[0m invalid syntax\n"
     ]
    }
   ],
   "source": [
    "#this connects the chatbot to Amazon Alexa, but it doesn't work currently\n",
    "import logging\n",
    "import re\n",
    "import requests\n",
    "from flask import Flask, request\n",
    "from flask_ask import Ask, statement, question, session\n",
    "\n",
    "app = Flask(__name__)\n",
    "ask = Ask(app,'/')\n",
    "\n",
    "@app.route('/')\n",
    "def homepage():\n",
    "    if session.attributes.get('last_intent') == \"QuestionIntent\":\n",
    "        return 'Hello...'\n",
    "\n",
    "@ask.launch\n",
    "def start_skill():\n",
    "    hellomsg = 'My name is damages bot and I am here to present my opinion of the damages in this case, do you have any questions?'\n",
    "    return question(hellomsg)\n",
    "    \n",
    "\n",
    "@ask.intent(\"QuestionIntent\", convert{\"query\":str})\n",
    "def question_intent(query):\n",
    "    # languange = []\n",
    "    # language.append(request.args.get(\"query\",\"Question\"))\n",
    "    letters_only = re.sub(\"[^a-zA-Z]\",  # Search for all non-letters\n",
    "                           \" \",          # Replace all non-letters with spaces\n",
    "                          str(query))\n",
    "    #end = []\n",
    "    #end.append(response(letters_only))\n",
    "    answer = \"Yes...\".format(response(letters_only))+\"anything else?\"\n",
    "    return question(answer)\n",
    "\n",
    "@ask.intent(\"EndIntent\")\n",
    "def end_intent(query):\n",
    "    goodbyemsg = 'Have a nice day.'\n",
    "    return statement(goodbyemsg)\n",
    "    should_session_end = True\n",
    "\n",
    "\n",
    "if __name__ == '__main__':\n",
    "    app.run(debug=False)\n"
   ]
  },
  {
   "cell_type": "code",
   "execution_count": 12,
   "metadata": {},
   "outputs": [
    {
     "name": "stdout",
     "output_type": "stream",
     "text": [
      "Hello!\n"
     ]
    }
   ],
   "source": [
    "response('hello')"
   ]
  },
  {
   "cell_type": "code",
   "execution_count": 13,
   "metadata": {},
   "outputs": [
    {
     "name": "stdout",
     "output_type": "stream",
     "text": [
      "California provides special and general damages to plaintiffs\n"
     ]
    }
   ],
   "source": [
    "response('What types of damages are avaialbe in this case?')"
   ]
  },
  {
   "cell_type": "code",
   "execution_count": 14,
   "metadata": {},
   "outputs": [
    {
     "name": "stdout",
     "output_type": "stream",
     "text": [
      "Special damages are defined as economic damages\n"
     ]
    }
   ],
   "source": [
    "response('what are special damages?')"
   ]
  },
  {
   "cell_type": "code",
   "execution_count": 16,
   "metadata": {},
   "outputs": [
    {
     "name": "stdout",
     "output_type": "stream",
     "text": [
      "General damages are non-economic damages suffered by the plaintiff\n"
     ]
    }
   ],
   "source": [
    "response('what are general damages?')"
   ]
  },
  {
   "cell_type": "code",
   "execution_count": 17,
   "metadata": {},
   "outputs": [
    {
     "name": "stdout",
     "output_type": "stream",
     "text": [
      "Noneconomic damages are intangible losses and can incldue pain and suffering, mental anguish and loss of consortium\n"
     ]
    }
   ],
   "source": [
    "response('Can you define noneconomic damages?')"
   ]
  },
  {
   "cell_type": "code",
   "execution_count": 18,
   "metadata": {},
   "outputs": [
    {
     "name": "stdout",
     "output_type": "stream",
     "text": [
      "Some examples of economic damages are costs of nursing care, physical rehabilitation and vocational rehabilitation, but can include all tangible losses\n"
     ]
    }
   ],
   "source": [
    "response('whare are economic damages?')"
   ]
  },
  {
   "cell_type": "code",
   "execution_count": 19,
   "metadata": {},
   "outputs": [
    {
     "name": "stdout",
     "output_type": "stream",
     "text": [
      "A single wide trailor costs around forty thousand dollars new, and ten to twenty thousand dollars used.\n"
     ]
    }
   ],
   "source": [
    "response('what is the cost of a single wide trailer')"
   ]
  },
  {
   "cell_type": "code",
   "execution_count": 20,
   "metadata": {},
   "outputs": [
    {
     "name": "stdout",
     "output_type": "stream",
     "text": [
      "A double wide trailor costs around seventy five thousand dollars new, and twenty to fifty thousand dollars used.\n"
     ]
    }
   ],
   "source": [
    "response('what is the cost of a double wide trailer')"
   ]
  },
  {
   "cell_type": "code",
   "execution_count": 22,
   "metadata": {},
   "outputs": [
    {
     "name": "stdout",
     "output_type": "stream",
     "text": [
      "Construction costs for a modular home range from seventeen thousand dollars at the low end up to fifty thousand dollars.\n"
     ]
    }
   ],
   "source": [
    "response('what would be the cost of construction to repair the trailer')"
   ]
  },
  {
   "cell_type": "code",
   "execution_count": 24,
   "metadata": {},
   "outputs": [
    {
     "name": "stdout",
     "output_type": "stream",
     "text": [
      "Usually pain and suffering is calculated multiplying the medical bills by a multiplier between one and five.\n"
     ]
    }
   ],
   "source": [
    "response('how do you calculate pain and suffering')"
   ]
  },
  {
   "cell_type": "code",
   "execution_count": 25,
   "metadata": {},
   "outputs": [
    {
     "name": "stdout",
     "output_type": "stream",
     "text": [
      "Two thousand dollars.\n"
     ]
    }
   ],
   "source": [
    "response('what are the calculated pain and suffering damages that should be awarded to the plaintiff')"
   ]
  },
  {
   "cell_type": "code",
   "execution_count": 28,
   "metadata": {},
   "outputs": [],
   "source": [
    "response('what are the total damages in this case')"
   ]
  },
  {
   "cell_type": "code",
   "execution_count": null,
   "metadata": {},
   "outputs": [],
   "source": []
  },
  {
   "cell_type": "code",
   "execution_count": null,
   "metadata": {},
   "outputs": [],
   "source": []
  }
 ],
 "metadata": {
  "kernelspec": {
   "display_name": "Python 3",
   "language": "python",
   "name": "python3"
  },
  "language_info": {
   "codemirror_mode": {
    "name": "ipython",
    "version": 3
   },
   "file_extension": ".py",
   "mimetype": "text/x-python",
   "name": "python",
   "nbconvert_exporter": "python",
   "pygments_lexer": "ipython3",
   "version": "3.6.4"
  }
 },
 "nbformat": 4,
 "nbformat_minor": 2
}
