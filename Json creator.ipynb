{
 "cells": [
  {
   "cell_type": "code",
   "execution_count": 1,
   "metadata": {},
   "outputs": [],
   "source": [
    "book = {}\n",
    "book['intents'] = [\n",
    "        {\"tag\":\"greating\",\n",
    "         \"patterns\": [\"Hello\",\"How are you doing?\",\"Good Morning\",\"Good Afternoon\"],\n",
    "         \"responses\": [\"Hello!\", \"Good to see you!\"],\n",
    "         \"context_set\": \"\"\n",
    "        },\n",
    "        {\"tag\": \"types\",\n",
    "         \"patterns\": [\"What types of damages are available for this case?\", \"What types of damages are available to the plaintiff?\", \"What types of damages are available in this case?\" ],\n",
    "         \"responses\": [\"Typically damages are calculate in general and special in California\", \"California provides special and general damages to plaintiffs\"],\n",
    "        },\n",
    "        {\"tag\": \"general\",\n",
    "         \"patterns\": [\"Can you explain general damages?\", \"Explain general damages to the jury?\", \"What is the meaning of general damages?\" ],\n",
    "         \"responses\": [\"General damages are non-economic damages suffered by the plaintiff\", \"General damages are defined as non-economic damages\"]\n",
    "        },\n",
    "        {\"tag\": \"special\",\n",
    "         \"patterns\": [\"Can you explain special damages?\", \"Explain special damages to the jury?\", \"What is the meaning of special damages?\" ],\n",
    "         \"responses\": [\"Special damages are economic damages suffered by the plaintiff\", \"Special damages are defined as economic damages\"]\n",
    "        },\n",
    "        {\"tag\": \"noneconomic\",\n",
    "         \"patterns\": [\"What are noneconomic damages?\", \"What do noneconomic damages include?\", \"What is the meaning of noneconomic damages?\"],\n",
    "         \"responses\": [\"Noneconomic damages are intangible losses and can incldue pain and suffering, mental anguish and loss of consortium\", \"Some exaples of noneconomic damages are include pain and suffering, mental anguish and loss of consortium, but include all intangible losses\"]\n",
    "        },\n",
    "        {\"tag\": \"economic\",\n",
    "         \"patterns\": [\"Can are economic damages?\", \"What do economic damages include?\", \"What is the meaning of economic damages?\" ],\n",
    "         \"responses\": [\"Economic damages are tangible losses and can include costs of nursing care, physical rehabilitation and vocational rehabilitation?\", \"Some examples of economic damages are costs of nursing care, physical rehabilitation and vocational rehabilitation, but can include all tangible losses\"],\n",
    "        },\n",
    "        {\"tag\": \"single\",\n",
    "         \"patterns\": [\"What is the cost of a single wide trailer?\", \"What is the price of a single wide trailer?\", \"How much do you think a single wide trailer costs?\"],\n",
    "         \"responses\": [\"A single wide trailor costs around forty thousand dollars new, and ten to twenty thousand dollars used.\"],\n",
    "        },\n",
    "          {\"tag\": \"double\",\n",
    "         \"patterns\": [\"What is the cost of a double wide trailer?\", \"What is the price of a double wide trailer?\", \"How much do you think a double wide trailer costs?\"],\n",
    "         \"responses\": [\"A double wide trailor costs around seventy five thousand dollars new, and twenty to fifty thousand dollars used.\"],\n",
    "        },\n",
    "          {\"tag\": \"construction\",\n",
    "         \"patterns\": [\"What do you think the cost of rebuilding the trailer would cost?\", \"What are the construction costs required to rebuild this trailer?\"],\n",
    "         \"responses\": [\"Construction costs for a modular home range from seventeen thousand dollars at the low end up to fifty thousand dollars.\"],\n",
    "        },\n",
    "          {\"tag\": \"pain\",\n",
    "         \"patterns\": [\"How would you calculate pain and suffering?\", \"What is the calculation for pain and suffering?\"],\n",
    "         \"responses\": [\"Usually pain and suffering is calculated multiplying the medical bills by a multiplier between one and five.\"],\n",
    "        },\n",
    "          {\"tag\": \"medical\",\n",
    "         \"patterns\": [\"What were the total medical costs?\"],\n",
    "         \"responses\": [\"The plaintiff suffered one thousand dollars in medical bills.\"],\n",
    "        },\n",
    "        \n",
    "        {\"tag\": \"multiplier\",\n",
    "         \"patterns\": [\"What should be the multiplier in this case?\",\"What do you believe the multiplier should be?\"],\n",
    "         \"responses\": [\"The multiplier should be between one and two considering the minor injuries\"],\n",
    "        },\n",
    "        {\"tag\": \"calculated\",\n",
    "         \"patterns\": [\"What are the calculated pain and suffering damages that should be awarded to the plaintiff?\",\"What do you calculate the pain and suffering to be awared to the plaintiff?\"],\n",
    "         \"responses\": [\"Two thousand dollars.\"],\n",
    "         \"Context_Set\": \"damages\"\n",
    "          },\n",
    "        {\"tag\": \"total\",\n",
    "         \"patterns\": [\"What are the total damages in this case?\",\"What are your calculations for total damages in this case?\"],\n",
    "         \"responses\": [\"The total damages in this case should be around twenty and fifty thousand dollars.\"],\n",
    "         \"context_filter\": \"damages\"\n",
    "         }\n",
    "   ]\n"
   ]
  },
  {
   "cell_type": "code",
   "execution_count": 2,
   "metadata": {},
   "outputs": [],
   "source": [
    "import json\n",
    "s = json.dumps(book)\n",
    "with open(\"c:/Users/grant/Desktop/AiLawMiniCourseHW/book.txt\", \"w\") as f:\n",
    "    f.write(s)\n"
   ]
  },
  {
   "cell_type": "code",
   "execution_count": null,
   "metadata": {},
   "outputs": [],
   "source": []
  }
 ],
 "metadata": {
  "kernelspec": {
   "display_name": "Python 3",
   "language": "python",
   "name": "python3"
  },
  "language_info": {
   "codemirror_mode": {
    "name": "ipython",
    "version": 3
   },
   "file_extension": ".py",
   "mimetype": "text/x-python",
   "name": "python",
   "nbconvert_exporter": "python",
   "pygments_lexer": "ipython3",
   "version": "3.6.4"
  }
 },
 "nbformat": 4,
 "nbformat_minor": 2
}
